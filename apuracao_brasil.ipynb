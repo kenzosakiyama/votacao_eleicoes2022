{
 "cells": [
  {
   "cell_type": "code",
   "execution_count": 1,
   "metadata": {},
   "outputs": [],
   "source": [
    "import pandas as pd\n",
    "import seaborn as sns\n",
    "import matplotlib.pyplot as plt"
   ]
  },
  {
   "cell_type": "code",
   "execution_count": 2,
   "metadata": {},
   "outputs": [],
   "source": [
    "sns.set_context(\"notebook\")\n",
    "sns.set_style(\"whitegrid\")"
   ]
  },
  {
   "cell_type": "markdown",
   "metadata": {},
   "source": [
    "# Carregando dados\n",
    "\n",
    "Carregando [dados](https://dadosabertos.tse.jus.br/dataset/resultados-2022) disponibilizados pela plataforma Dados Abertos do Tribunal Superior Eleitoral. Os dados correspondem a uma série temporal contendo a evolução a apuração no Brasil, desde o ínicio da apuração até seu fim."
   ]
  },
  {
   "cell_type": "code",
   "execution_count": 3,
   "metadata": {},
   "outputs": [],
   "source": [
    "PATH_TO_DATA = \"/run/media/kenzo/DATA/kenzo/eleicoes2022/Historico_Totalizacao_Presidente_BR_2T_2022/Historico_Totalizacao_Presidente_BR_2T_2022.csv\""
   ]
  },
  {
   "cell_type": "code",
   "execution_count": 4,
   "metadata": {},
   "outputs": [],
   "source": [
    "df = pd.read_csv(PATH_TO_DATA, sep=\";\")"
   ]
  },
  {
   "cell_type": "code",
   "execution_count": 5,
   "metadata": {},
   "outputs": [
    {
     "name": "stdout",
     "output_type": "stream",
     "text": [
      "<class 'pandas.core.frame.DataFrame'>\n",
      "RangeIndex: 5286 entries, 0 to 5285\n",
      "Data columns (total 28 columns):\n",
      " #   Column                                         Non-Null Count  Dtype \n",
      "---  ------                                         --------------  ----- \n",
      " 0    CD_PLEITO                                     5286 non-null   int64 \n",
      " 1   CD_ELEICAO                                     5286 non-null   int64 \n",
      " 2     CD_CARGO                                     5286 non-null   int64 \n",
      " 3   SG_UE_UF                                       5286 non-null   object\n",
      " 4   DT_TOTALIZACAO                                 5286 non-null   object\n",
      " 5   QT_SECOES_TOTAL                                5286 non-null   int64 \n",
      " 6   QT_APTOS_TOTAL                                 5286 non-null   int64 \n",
      " 7   QT_SECOES_TOT                                  5286 non-null   int64 \n",
      " 8   QT_SECOES_TOT_ACUMULADO                        5286 non-null   int64 \n",
      " 9   PE_SECOES_TOT_ACUMULADO                        5286 non-null   object\n",
      " 10  QT_APTOS_TOT                                   5286 non-null   int64 \n",
      " 11  QT_APTOS_TOT_ACUMULADO                         5286 non-null   int64 \n",
      " 12  QT_VOTOS_TOTAL                                 5286 non-null   int64 \n",
      " 13  QT_VOTOS_TOTAL_ACUMULADO                       5286 non-null   int64 \n",
      " 14  QT_VOTOS_CONCORRENTES                          5286 non-null   int64 \n",
      " 15  QT_VOTOS_CONCORRENTES_ACUMULADO                5286 non-null   int64 \n",
      " 16  LULA_QT_VOTOS_TOT                              5286 non-null   int64 \n",
      " 17  LULA_QT_VOTOS_TOT_ACUMULADO                    5286 non-null   int64 \n",
      " 18  LULA_PE_VOTOS_TOT_ACUMULADO                    5286 non-null   object\n",
      " 19  JAIR_BOLSONARO_QT_VOTOS_TOT                    5286 non-null   int64 \n",
      " 20  JAIR_BOLSONARO_QT_VOTOS_TOT_ACUMULADO          5286 non-null   int64 \n",
      " 21  JAIR_BOLSONARO_PE_VOTOS_TOT_ACUMULADO          5286 non-null   object\n",
      " 22  BRANCO_QT_VOTOS_TOT                            5286 non-null   int64 \n",
      " 23  BRANCO_QT_VOTOS_TOT_ACUMULADO                  5286 non-null   int64 \n",
      " 24  BRANCO_PE_VOTOS_TOT_ACUMULADO                  5286 non-null   object\n",
      " 25  NULO_QT_VOTOS_TOT                              5286 non-null   int64 \n",
      " 26  NULO_QT_VOTOS_TOT_ACUMULADO                    5286 non-null   int64 \n",
      " 27  NULO_PE_VOTOS_TOT_ACUMULADO                    5286 non-null   object\n",
      "dtypes: int64(21), object(7)\n",
      "memory usage: 1.1+ MB\n"
     ]
    }
   ],
   "source": [
    "df.info()"
   ]
  },
  {
   "cell_type": "code",
   "execution_count": 6,
   "metadata": {},
   "outputs": [],
   "source": [
    "# Padronizando nomes de colunas\n",
    "df.columns = [col.strip() for col in df.columns]"
   ]
  },
  {
   "cell_type": "code",
   "execution_count": 7,
   "metadata": {},
   "outputs": [],
   "source": [
    "# Eliminando espaços de colunas com dados textuais\n",
    "df[\"SG_UE_UF\"] = df[\"SG_UE_UF\"].str.strip()"
   ]
  },
  {
   "cell_type": "code",
   "execution_count": 8,
   "metadata": {},
   "outputs": [],
   "source": [
    "# Convertendo tipos de dados\n",
    "df[\"LULA_PE_VOTOS_TOT_ACUMULADO\"] = pd.to_numeric(df[\"LULA_PE_VOTOS_TOT_ACUMULADO\"].str.strip().str.replace(\",\", \".\"), downcast=\"float\")\n",
    "df[\"JAIR_BOLSONARO_PE_VOTOS_TOT_ACUMULADO\"] = pd.to_numeric(df[\"JAIR_BOLSONARO_PE_VOTOS_TOT_ACUMULADO\"].str.strip().str.replace(\",\", \".\"), downcast=\"float\")"
   ]
  },
  {
   "cell_type": "code",
   "execution_count": 9,
   "metadata": {},
   "outputs": [],
   "source": [
    "# Convertendo timesteps\n",
    "df[\"DT_TOTALIZACAO\"] = pd.to_datetime(df[\"DT_TOTALIZACAO\"])"
   ]
  },
  {
   "cell_type": "markdown",
   "metadata": {},
   "source": [
    "# Extraindo total de votos por cadidato"
   ]
  },
  {
   "cell_type": "code",
   "execution_count": 10,
   "metadata": {},
   "outputs": [
    {
     "data": {
      "text/html": [
       "<div>\n",
       "<style scoped>\n",
       "    .dataframe tbody tr th:only-of-type {\n",
       "        vertical-align: middle;\n",
       "    }\n",
       "\n",
       "    .dataframe tbody tr th {\n",
       "        vertical-align: top;\n",
       "    }\n",
       "\n",
       "    .dataframe thead th {\n",
       "        text-align: right;\n",
       "    }\n",
       "</style>\n",
       "<table border=\"1\" class=\"dataframe\">\n",
       "  <thead>\n",
       "    <tr style=\"text-align: right;\">\n",
       "      <th></th>\n",
       "      <th>CD_PLEITO</th>\n",
       "      <th>CD_ELEICAO</th>\n",
       "      <th>CD_CARGO</th>\n",
       "      <th>SG_UE_UF</th>\n",
       "      <th>DT_TOTALIZACAO</th>\n",
       "      <th>QT_SECOES_TOTAL</th>\n",
       "      <th>QT_APTOS_TOTAL</th>\n",
       "      <th>QT_SECOES_TOT</th>\n",
       "      <th>QT_SECOES_TOT_ACUMULADO</th>\n",
       "      <th>PE_SECOES_TOT_ACUMULADO</th>\n",
       "      <th>...</th>\n",
       "      <th>LULA_PE_VOTOS_TOT_ACUMULADO</th>\n",
       "      <th>JAIR_BOLSONARO_QT_VOTOS_TOT</th>\n",
       "      <th>JAIR_BOLSONARO_QT_VOTOS_TOT_ACUMULADO</th>\n",
       "      <th>JAIR_BOLSONARO_PE_VOTOS_TOT_ACUMULADO</th>\n",
       "      <th>BRANCO_QT_VOTOS_TOT</th>\n",
       "      <th>BRANCO_QT_VOTOS_TOT_ACUMULADO</th>\n",
       "      <th>BRANCO_PE_VOTOS_TOT_ACUMULADO</th>\n",
       "      <th>NULO_QT_VOTOS_TOT</th>\n",
       "      <th>NULO_QT_VOTOS_TOT_ACUMULADO</th>\n",
       "      <th>NULO_PE_VOTOS_TOT_ACUMULADO</th>\n",
       "    </tr>\n",
       "  </thead>\n",
       "  <tbody>\n",
       "    <tr>\n",
       "      <th>5281</th>\n",
       "      <td>407</td>\n",
       "      <td>545</td>\n",
       "      <td>1</td>\n",
       "      <td>BR</td>\n",
       "      <td>2022-10-30 22:52:55</td>\n",
       "      <td>472075</td>\n",
       "      <td>156454011</td>\n",
       "      <td>1</td>\n",
       "      <td>472070</td>\n",
       "      <td>0,999989</td>\n",
       "      <td>...</td>\n",
       "      <td>0.509023</td>\n",
       "      <td>100</td>\n",
       "      <td>58206043</td>\n",
       "      <td>0.490977</td>\n",
       "      <td>0</td>\n",
       "      <td>1769677</td>\n",
       "      <td>0,014243</td>\n",
       "      <td>5</td>\n",
       "      <td>3930755</td>\n",
       "      <td>0,031635</td>\n",
       "    </tr>\n",
       "    <tr>\n",
       "      <th>5282</th>\n",
       "      <td>407</td>\n",
       "      <td>545</td>\n",
       "      <td>1</td>\n",
       "      <td>BR</td>\n",
       "      <td>2022-10-30 22:53:57</td>\n",
       "      <td>472075</td>\n",
       "      <td>156454011</td>\n",
       "      <td>1</td>\n",
       "      <td>472071</td>\n",
       "      <td>0,999992</td>\n",
       "      <td>...</td>\n",
       "      <td>0.509023</td>\n",
       "      <td>79</td>\n",
       "      <td>58206122</td>\n",
       "      <td>0.490977</td>\n",
       "      <td>0</td>\n",
       "      <td>1769677</td>\n",
       "      <td>0,014243</td>\n",
       "      <td>3</td>\n",
       "      <td>3930758</td>\n",
       "      <td>0,031635</td>\n",
       "    </tr>\n",
       "    <tr>\n",
       "      <th>5283</th>\n",
       "      <td>407</td>\n",
       "      <td>545</td>\n",
       "      <td>1</td>\n",
       "      <td>BR</td>\n",
       "      <td>2022-10-30 22:55:00</td>\n",
       "      <td>472075</td>\n",
       "      <td>156454011</td>\n",
       "      <td>2</td>\n",
       "      <td>472073</td>\n",
       "      <td>0,999996</td>\n",
       "      <td>...</td>\n",
       "      <td>0.509023</td>\n",
       "      <td>129</td>\n",
       "      <td>58206251</td>\n",
       "      <td>0.490977</td>\n",
       "      <td>1</td>\n",
       "      <td>1769678</td>\n",
       "      <td>0,014243</td>\n",
       "      <td>2</td>\n",
       "      <td>3930760</td>\n",
       "      <td>0,031635</td>\n",
       "    </tr>\n",
       "    <tr>\n",
       "      <th>5284</th>\n",
       "      <td>407</td>\n",
       "      <td>545</td>\n",
       "      <td>1</td>\n",
       "      <td>BR</td>\n",
       "      <td>2022-10-30 22:57:09</td>\n",
       "      <td>472075</td>\n",
       "      <td>156454011</td>\n",
       "      <td>1</td>\n",
       "      <td>472074</td>\n",
       "      <td>0,999998</td>\n",
       "      <td>...</td>\n",
       "      <td>0.509023</td>\n",
       "      <td>71</td>\n",
       "      <td>58206322</td>\n",
       "      <td>0.490977</td>\n",
       "      <td>0</td>\n",
       "      <td>1769678</td>\n",
       "      <td>0,014243</td>\n",
       "      <td>2</td>\n",
       "      <td>3930762</td>\n",
       "      <td>0,031635</td>\n",
       "    </tr>\n",
       "    <tr>\n",
       "      <th>5285</th>\n",
       "      <td>407</td>\n",
       "      <td>545</td>\n",
       "      <td>1</td>\n",
       "      <td>BR</td>\n",
       "      <td>2022-10-31 00:18:04</td>\n",
       "      <td>472075</td>\n",
       "      <td>156454011</td>\n",
       "      <td>1</td>\n",
       "      <td>472075</td>\n",
       "      <td>1,000000</td>\n",
       "      <td>...</td>\n",
       "      <td>0.509024</td>\n",
       "      <td>32</td>\n",
       "      <td>58206354</td>\n",
       "      <td>0.490976</td>\n",
       "      <td>0</td>\n",
       "      <td>1769678</td>\n",
       "      <td>0,014243</td>\n",
       "      <td>3</td>\n",
       "      <td>3930765</td>\n",
       "      <td>0,031635</td>\n",
       "    </tr>\n",
       "  </tbody>\n",
       "</table>\n",
       "<p>5 rows × 28 columns</p>\n",
       "</div>"
      ],
      "text/plain": [
       "      CD_PLEITO  CD_ELEICAO  CD_CARGO SG_UE_UF      DT_TOTALIZACAO  \\\n",
       "5281        407         545         1       BR 2022-10-30 22:52:55   \n",
       "5282        407         545         1       BR 2022-10-30 22:53:57   \n",
       "5283        407         545         1       BR 2022-10-30 22:55:00   \n",
       "5284        407         545         1       BR 2022-10-30 22:57:09   \n",
       "5285        407         545         1       BR 2022-10-31 00:18:04   \n",
       "\n",
       "      QT_SECOES_TOTAL  QT_APTOS_TOTAL  QT_SECOES_TOT  QT_SECOES_TOT_ACUMULADO  \\\n",
       "5281           472075       156454011              1                   472070   \n",
       "5282           472075       156454011              1                   472071   \n",
       "5283           472075       156454011              2                   472073   \n",
       "5284           472075       156454011              1                   472074   \n",
       "5285           472075       156454011              1                   472075   \n",
       "\n",
       "                            PE_SECOES_TOT_ACUMULADO  ...  \\\n",
       "5281                                       0,999989  ...   \n",
       "5282                                       0,999992  ...   \n",
       "5283                                       0,999996  ...   \n",
       "5284                                       0,999998  ...   \n",
       "5285                                       1,000000  ...   \n",
       "\n",
       "      LULA_PE_VOTOS_TOT_ACUMULADO  JAIR_BOLSONARO_QT_VOTOS_TOT  \\\n",
       "5281                     0.509023                          100   \n",
       "5282                     0.509023                           79   \n",
       "5283                     0.509023                          129   \n",
       "5284                     0.509023                           71   \n",
       "5285                     0.509024                           32   \n",
       "\n",
       "      JAIR_BOLSONARO_QT_VOTOS_TOT_ACUMULADO  \\\n",
       "5281                               58206043   \n",
       "5282                               58206122   \n",
       "5283                               58206251   \n",
       "5284                               58206322   \n",
       "5285                               58206354   \n",
       "\n",
       "      JAIR_BOLSONARO_PE_VOTOS_TOT_ACUMULADO  BRANCO_QT_VOTOS_TOT  \\\n",
       "5281                               0.490977                    0   \n",
       "5282                               0.490977                    0   \n",
       "5283                               0.490977                    1   \n",
       "5284                               0.490977                    0   \n",
       "5285                               0.490976                    0   \n",
       "\n",
       "      BRANCO_QT_VOTOS_TOT_ACUMULADO  \\\n",
       "5281                        1769677   \n",
       "5282                        1769677   \n",
       "5283                        1769678   \n",
       "5284                        1769678   \n",
       "5285                        1769678   \n",
       "\n",
       "                      BRANCO_PE_VOTOS_TOT_ACUMULADO  NULO_QT_VOTOS_TOT  \\\n",
       "5281                                       0,014243                  5   \n",
       "5282                                       0,014243                  3   \n",
       "5283                                       0,014243                  2   \n",
       "5284                                       0,014243                  2   \n",
       "5285                                       0,014243                  3   \n",
       "\n",
       "      NULO_QT_VOTOS_TOT_ACUMULADO  \\\n",
       "5281                      3930755   \n",
       "5282                      3930758   \n",
       "5283                      3930760   \n",
       "5284                      3930762   \n",
       "5285                      3930765   \n",
       "\n",
       "                        NULO_PE_VOTOS_TOT_ACUMULADO  \n",
       "5281                                       0,031635  \n",
       "5282                                       0,031635  \n",
       "5283                                       0,031635  \n",
       "5284                                       0,031635  \n",
       "5285                                       0,031635  \n",
       "\n",
       "[5 rows x 28 columns]"
      ]
     },
     "execution_count": 10,
     "metadata": {},
     "output_type": "execute_result"
    }
   ],
   "source": [
    "df.tail()"
   ]
  },
  {
   "cell_type": "code",
   "execution_count": 11,
   "metadata": {},
   "outputs": [],
   "source": [
    "last_entry = df.iloc[-1]"
   ]
  },
  {
   "cell_type": "code",
   "execution_count": 12,
   "metadata": {},
   "outputs": [
    {
     "name": "stdout",
     "output_type": "stream",
     "text": [
      "- Lula 0.50902 % - 60,345,999\n",
      "- Bolsonaro 0.49098 % - 58,206,354\n"
     ]
    }
   ],
   "source": [
    "print(f\"- Lula {last_entry['LULA_PE_VOTOS_TOT_ACUMULADO']:.5f} % - {last_entry['LULA_QT_VOTOS_TOT_ACUMULADO']:,}\")\n",
    "print(f\"- Bolsonaro {last_entry['JAIR_BOLSONARO_PE_VOTOS_TOT_ACUMULADO']:.5f} % - {last_entry['JAIR_BOLSONARO_QT_VOTOS_TOT_ACUMULADO']:,}\")"
   ]
  },
  {
   "cell_type": "markdown",
   "metadata": {},
   "source": [
    "# Evolução da apuração no Brasil\n",
    "\n",
    "Visualizando a evolução da apuração."
   ]
  },
  {
   "cell_type": "code",
   "execution_count": 13,
   "metadata": {},
   "outputs": [
    {
     "data": {
      "text/plain": [
       "5286"
      ]
     },
     "execution_count": 13,
     "metadata": {},
     "output_type": "execute_result"
    }
   ],
   "source": [
    "aux_df = df[[\"LULA_PE_VOTOS_TOT_ACUMULADO\", \"JAIR_BOLSONARO_PE_VOTOS_TOT_ACUMULADO\", \"DT_TOTALIZACAO\"]]\n",
    "len(aux_df)"
   ]
  },
  {
   "cell_type": "code",
   "execution_count": 14,
   "metadata": {},
   "outputs": [
    {
     "data": {
      "text/plain": [
       "4953"
      ]
     },
     "execution_count": 14,
     "metadata": {},
     "output_type": "execute_result"
    }
   ],
   "source": [
    "aux_df = aux_df[aux_df[\"DT_TOTALIZACAO\"].dt.hour < 20]\n",
    "aux_df = aux_df[aux_df[\"DT_TOTALIZACAO\"].dt.hour != 0]\n",
    "len(aux_df)"
   ]
  },
  {
   "cell_type": "code",
   "execution_count": 15,
   "metadata": {},
   "outputs": [],
   "source": [
    "# Transformando colunas\n",
    "aux_df = aux_df.melt(id_vars=\"DT_TOTALIZACAO\")\n",
    "aux_df.columns = [\"Timestamp\", \"Candidato\", \"Porcentagem\"]\n",
    "aux_df[\"Candidato\"] = aux_df[\"Candidato\"].map({\"LULA_PE_VOTOS_TOT_ACUMULADO\": \"Lula\", \"JAIR_BOLSONARO_PE_VOTOS_TOT_ACUMULADO\": \"Bolsonaro\"})"
   ]
  },
  {
   "cell_type": "code",
   "execution_count": 16,
   "metadata": {},
   "outputs": [
    {
     "data": {
      "image/png": "[encoded data removed]",
      "text/plain": [
       "<Figure size 720x432 with 1 Axes>"
      ]
     },
     "metadata": {},
     "output_type": "display_data"
    }
   ],
   "source": [
    "plt.figure(figsize=(10, 6))\n",
    "axes = sns.lineplot(data=aux_df, x=\"Timestamp\", y=\"Porcentagem\", hue=\"Candidato\")\n",
    "axes.tick_params(axis='x', rotation=45)"
   ]
  }
 ],
 "metadata": {
  "kernelspec": {
   "display_name": "Python 3.10.4 ('data')",
   "language": "python",
   "name": "python3"
  },
  "language_info": {
   "codemirror_mode": {
    "name": "ipython",
    "version": 3
   },
   "file_extension": ".py",
   "mimetype": "text/x-python",
   "name": "python",
   "nbconvert_exporter": "python",
   "pygments_lexer": "ipython3",
   "version": "3.10.4"
  },
  "orig_nbformat": 4,
  "vscode": {
   "interpreter": {
    "hash": "75afb5d92ca798bbdbca1b88054cd0c56e3ed035199a09168ef1fb9426a8896a"
   }
  }
 },
 "nbformat": 4,
 "nbformat_minor": 2
}
